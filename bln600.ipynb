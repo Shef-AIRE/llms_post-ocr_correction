{
 "cells": [
  {
   "cell_type": "code",
   "execution_count": 1,
   "id": "ab61c346afd5433f",
   "metadata": {
    "ExecuteTime": {
     "end_time": "2024-06-14T13:12:14.071584Z",
     "start_time": "2024-06-14T13:12:13.701970Z"
    },
    "collapsed": false,
    "jupyter": {
     "outputs_hidden": false
    }
   },
   "outputs": [],
   "source": [
    "from sklearn.model_selection import train_test_split\n",
    "import json\n",
    "import Levenshtein\n",
    "import os\n",
    "import pandas as pd"
   ]
  },
  {
   "cell_type": "code",
   "execution_count": 2,
   "id": "cb66119c1a4e10a9",
   "metadata": {
    "ExecuteTime": {
     "end_time": "2024-06-14T13:12:14.523865Z",
     "start_time": "2024-06-14T13:12:14.521372Z"
    },
    "collapsed": false,
    "jupyter": {
     "outputs_hidden": false
    }
   },
   "outputs": [],
   "source": [
    "# Compute character error rate (CER)\n",
    "def cer(prediction, target):\n",
    "    distance = Levenshtein.distance(prediction, target)\n",
    "    return distance / len(target)\n",
    "\n",
    "# Helper function to preprocess text\n",
    "def preprocess(c):\n",
    "    c = c.str.replace(\"‘\", \"'\", regex=False)\n",
    "    c = c.str.replace(\"’\", \"'\", regex=False)\n",
    "    c = c.str.replace(\"“\", '\"', regex=False)\n",
    "    c = c.str.replace(\"”\", '\"', regex=False)\n",
    "    c = c.str.replace(\"—\", \"-\", regex=False)\n",
    "    c = c.str.replace(r'\\s+', ' ', regex=True)\n",
    "    c = c.str.strip()\n",
    "    return c"
   ]
  },
  {
   "cell_type": "markdown",
   "id": "e3809a9d977656ec",
   "metadata": {
    "collapsed": false,
    "jupyter": {
     "outputs_hidden": false
    }
   },
   "source": [
    "## BLN600\n"
   ]
  },
  {
   "cell_type": "markdown",
   "id": "b79d124cadf756b2",
   "metadata": {},
   "source": [
    "The following cells load **BLN600**, a parallel corpus of 19th century newspaper machine/human transcription. \n",
    "\n",
    "The dataset can be accessed from the DOI below and should be placed in the `data` folder of the project.\n",
    "\n",
    "DOI: https://doi.org/10.15131/shef.data.25439023\n"
   ]
  },
  {
   "cell_type": "code",
   "execution_count": 3,
   "id": "300a502dc92c6d19",
   "metadata": {
    "ExecuteTime": {
     "end_time": "2024-06-14T13:12:15.964478Z",
     "start_time": "2024-06-14T13:12:15.918193Z"
    },
    "collapsed": false,
    "jupyter": {
     "outputs_hidden": false
    }
   },
   "outputs": [
    {
     "data": {
      "text/html": [
       "<div>\n",
       "<style scoped>\n",
       "    .dataframe tbody tr th:only-of-type {\n",
       "        vertical-align: middle;\n",
       "    }\n",
       "\n",
       "    .dataframe tbody tr th {\n",
       "        vertical-align: top;\n",
       "    }\n",
       "\n",
       "    .dataframe thead th {\n",
       "        text-align: right;\n",
       "    }\n",
       "</style>\n",
       "<table border=\"1\" class=\"dataframe\">\n",
       "  <thead>\n",
       "    <tr style=\"text-align: right;\">\n",
       "      <th></th>\n",
       "      <th>Sample ID</th>\n",
       "      <th>Date</th>\n",
       "      <th>Publication</th>\n",
       "      <th>OCR Text</th>\n",
       "      <th>Ground Truth</th>\n",
       "    </tr>\n",
       "  </thead>\n",
       "  <tbody>\n",
       "    <tr>\n",
       "      <th>0</th>\n",
       "      <td>3200797029</td>\n",
       "      <td>1882-05-27</td>\n",
       "      <td>Illustrated Police News</td>\n",
       "      <td>__RO BBERY AT A BARONET'S. v EDWARn PRING, twe...</td>\n",
       "      <td>ROBBERY AT A BARONETS. EDWARD PRING, twenty-se...</td>\n",
       "    </tr>\n",
       "    <tr>\n",
       "      <th>1</th>\n",
       "      <td>3200797032</td>\n",
       "      <td>1882-05-27</td>\n",
       "      <td>Illustrated Police News</td>\n",
       "      <td>CHARGE OF SETTING FIRE TO A HOUSE. AT the Tham...</td>\n",
       "      <td>CHARGE OF SETTING FIRE TO A HOUSE. AT the Tham...</td>\n",
       "    </tr>\n",
       "    <tr>\n",
       "      <th>2</th>\n",
       "      <td>3200797034</td>\n",
       "      <td>1882-05-27</td>\n",
       "      <td>Illustrated Police News</td>\n",
       "      <td>SERVANTS AND THEIR SWEETHEARTS. . A I I . 1 _ ...</td>\n",
       "      <td>SERVANTS AND THEIR SWEETHEARTS. ON Saturday, a...</td>\n",
       "    </tr>\n",
       "    <tr>\n",
       "      <th>3</th>\n",
       "      <td>3200797037</td>\n",
       "      <td>1882-05-27</td>\n",
       "      <td>Illustrated Police News</td>\n",
       "      <td>CAPTURE OF PICKPOCKETS. AT Stratford petty ses...</td>\n",
       "      <td>CAPTURE OF PICKPOCKETS. AT Stratford petty ses...</td>\n",
       "    </tr>\n",
       "    <tr>\n",
       "      <th>4</th>\n",
       "      <td>3200801612</td>\n",
       "      <td>1885-06-20</td>\n",
       "      <td>Illustrated Police News</td>\n",
       "      <td>DOUBLE MURDER BY A MOTHER AT | I P9,USHOLMIE. ...</td>\n",
       "      <td>DOUBLE MURDER BY A MOTHER AT RUSHOLME. [SUBJEC...</td>\n",
       "    </tr>\n",
       "    <tr>\n",
       "      <th>5</th>\n",
       "      <td>3200801613</td>\n",
       "      <td>1885-06-20</td>\n",
       "      <td>Illustrated Police News</td>\n",
       "      <td>* ATTACK ON CONSTABLES AT WIDNES. er Da EfSUDM...</td>\n",
       "      <td>ATTACK ON CONSTABLES AT WIDNES. [SUBJECT OF IL...</td>\n",
       "    </tr>\n",
       "    <tr>\n",
       "      <th>6</th>\n",
       "      <td>3200801615</td>\n",
       "      <td>1885-06-20</td>\n",
       "      <td>Illustrated Police News</td>\n",
       "      <td>ST-TOT FIRING IN MINES. M. AN, important ease ...</td>\n",
       "      <td>SHOT FIRING IN MINES. AN important case came o...</td>\n",
       "    </tr>\n",
       "    <tr>\n",
       "      <th>7</th>\n",
       "      <td>3200801619</td>\n",
       "      <td>1885-06-20</td>\n",
       "      <td>Illustrated Police News</td>\n",
       "      <td>THE POISONING CASE IN FRASNCE. Tll. trial oi P...</td>\n",
       "      <td>THE POISONING CASE IN FRANCE. THE trial of Pel...</td>\n",
       "    </tr>\n",
       "    <tr>\n",
       "      <th>8</th>\n",
       "      <td>3200801622</td>\n",
       "      <td>1885-06-20</td>\n",
       "      <td>Illustrated Police News</td>\n",
       "      <td>COMPENSATION TO A PUBLICAN. AT the Man sion Ho...</td>\n",
       "      <td>COMPENSATION TO A PUBLICAN. AT the Mansion Hou...</td>\n",
       "    </tr>\n",
       "    <tr>\n",
       "      <th>9</th>\n",
       "      <td>3200801629</td>\n",
       "      <td>1885-06-20</td>\n",
       "      <td>Illustrated Police News</td>\n",
       "      <td>MIDDLESEX SESSIONS. Sl~~s/ - . - - - T ,,1 PAr...</td>\n",
       "      <td>MIDDLESEX SESSION'S. PARISH PROSECUTIONS AT TH...</td>\n",
       "    </tr>\n",
       "  </tbody>\n",
       "</table>\n",
       "</div>"
      ],
      "text/plain": [
       "    Sample ID       Date              Publication  \\\n",
       "0  3200797029 1882-05-27  Illustrated Police News   \n",
       "1  3200797032 1882-05-27  Illustrated Police News   \n",
       "2  3200797034 1882-05-27  Illustrated Police News   \n",
       "3  3200797037 1882-05-27  Illustrated Police News   \n",
       "4  3200801612 1885-06-20  Illustrated Police News   \n",
       "5  3200801613 1885-06-20  Illustrated Police News   \n",
       "6  3200801615 1885-06-20  Illustrated Police News   \n",
       "7  3200801619 1885-06-20  Illustrated Police News   \n",
       "8  3200801622 1885-06-20  Illustrated Police News   \n",
       "9  3200801629 1885-06-20  Illustrated Police News   \n",
       "\n",
       "                                            OCR Text  \\\n",
       "0  __RO BBERY AT A BARONET'S. v EDWARn PRING, twe...   \n",
       "1  CHARGE OF SETTING FIRE TO A HOUSE. AT the Tham...   \n",
       "2  SERVANTS AND THEIR SWEETHEARTS. . A I I . 1 _ ...   \n",
       "3  CAPTURE OF PICKPOCKETS. AT Stratford petty ses...   \n",
       "4  DOUBLE MURDER BY A MOTHER AT | I P9,USHOLMIE. ...   \n",
       "5  * ATTACK ON CONSTABLES AT WIDNES. er Da EfSUDM...   \n",
       "6  ST-TOT FIRING IN MINES. M. AN, important ease ...   \n",
       "7  THE POISONING CASE IN FRASNCE. Tll. trial oi P...   \n",
       "8  COMPENSATION TO A PUBLICAN. AT the Man sion Ho...   \n",
       "9  MIDDLESEX SESSIONS. Sl~~s/ - . - - - T ,,1 PAr...   \n",
       "\n",
       "                                        Ground Truth  \n",
       "0  ROBBERY AT A BARONETS. EDWARD PRING, twenty-se...  \n",
       "1  CHARGE OF SETTING FIRE TO A HOUSE. AT the Tham...  \n",
       "2  SERVANTS AND THEIR SWEETHEARTS. ON Saturday, a...  \n",
       "3  CAPTURE OF PICKPOCKETS. AT Stratford petty ses...  \n",
       "4  DOUBLE MURDER BY A MOTHER AT RUSHOLME. [SUBJEC...  \n",
       "5  ATTACK ON CONSTABLES AT WIDNES. [SUBJECT OF IL...  \n",
       "6  SHOT FIRING IN MINES. AN important case came o...  \n",
       "7  THE POISONING CASE IN FRANCE. THE trial of Pel...  \n",
       "8  COMPENSATION TO A PUBLICAN. AT the Mansion Hou...  \n",
       "9  MIDDLESEX SESSION'S. PARISH PROSECUTIONS AT TH...  "
      ]
     },
     "execution_count": 3,
     "metadata": {},
     "output_type": "execute_result"
    }
   ],
   "source": [
    "sample_id, date, publication, ocr, gt = [], [], [], [], []\n",
    "\n",
    "with open('data/BLN600/metadata.json', 'r') as f:\n",
    "    metadata = json.load(f)\n",
    "\n",
    "for doc in metadata:\n",
    "    sample_id.append(doc['short_id'])\n",
    "    \n",
    "    d = doc['date']\n",
    "    d = f'{d[:4]}-{d[4:6]}-{d[6:]}'\n",
    "    date.append(d)\n",
    "    \n",
    "    p = doc['publication']\n",
    "    match doc['publication']:\n",
    "            case 'Lloyd&apos;s Weekly London Newspaper':\n",
    "                p = 'Lloyd\\'s Illustrated Newspaper'\n",
    "            case 'Lloyd&apos;s Weekly Newspaper':\n",
    "                p = 'Lloyd\\'s Illustrated Newspaper'\n",
    "            case 'The Illustrated Police News etc':\n",
    "                p = 'Illustrated Police News'\n",
    "            case 'The Morning Chronicle':\n",
    "                p = 'Morning Chronicle'\n",
    "            case 'The Era':\n",
    "                p = 'The Era'\n",
    "            case 'The Charter':\n",
    "                p = 'Charter'\n",
    "            case 'Daily News':\n",
    "                p = 'Daily News'\n",
    "    publication.append(p)    \n",
    "    \n",
    "    f = open(os.path.join('data/BLN600/OCR Text', doc['short_id'] + '.txt'), 'r')\n",
    "    ocr.append(' '.join(f.read().split()))\n",
    "    f.close()\n",
    "    \n",
    "    f = open(os.path.join('data/BLN600/Ground Truth', doc['short_id'] + '.txt'), 'r')\n",
    "    gt.append(' '.join(f.read().split()))\n",
    "    f.close()\n",
    "\n",
    "bln600 = pd.DataFrame({'Sample ID': sample_id, 'Date': date, 'Publication': publication, 'OCR Text': ocr, 'Ground Truth': gt})\n",
    "bln600['Date'] = pd.to_datetime(bln600['Date'])\n",
    "bln600.head(10)"
   ]
  },
  {
   "cell_type": "code",
   "execution_count": 4,
   "id": "bf9ee5112997c844",
   "metadata": {
    "ExecuteTime": {
     "end_time": "2024-06-14T13:12:16.928803Z",
     "start_time": "2024-06-14T13:12:16.925807Z"
    },
    "collapsed": false,
    "jupyter": {
     "outputs_hidden": false
    }
   },
   "outputs": [
    {
     "data": {
      "text/plain": [
       "Publication\n",
       "Lloyd's Illustrated Newspaper    360\n",
       "Illustrated Police News          212\n",
       "Morning Chronicle                 13\n",
       "The Era                            8\n",
       "Charter                            6\n",
       "Daily News                         1\n",
       "Name: count, dtype: int64"
      ]
     },
     "execution_count": 4,
     "metadata": {},
     "output_type": "execute_result"
    }
   ],
   "source": [
    "bln600['Publication'].value_counts()"
   ]
  },
  {
   "cell_type": "code",
   "execution_count": 5,
   "id": "1718bc31cfe81ed3",
   "metadata": {
    "ExecuteTime": {
     "end_time": "2024-06-14T13:12:17.481484Z",
     "start_time": "2024-06-14T13:12:17.478426Z"
    },
    "collapsed": false,
    "jupyter": {
     "outputs_hidden": false
    }
   },
   "outputs": [
    {
     "data": {
      "text/plain": [
       "Date\n",
       "1890    196\n",
       "1880    110\n",
       "1870     94\n",
       "1860     85\n",
       "1850     72\n",
       "1840     26\n",
       "1830     17\n",
       "Name: count, dtype: int64"
      ]
     },
     "execution_count": 5,
     "metadata": {},
     "output_type": "execute_result"
    }
   ],
   "source": [
    "((bln600['Date'].dt.year // 10) * 10).value_counts()"
   ]
  },
  {
   "cell_type": "markdown",
   "id": "74c34c7e68814b50",
   "metadata": {
    "collapsed": false,
    "jupyter": {
     "outputs_hidden": false
    }
   },
   "source": [
    "## Sequences"
   ]
  },
  {
   "cell_type": "markdown",
   "id": "2b98342b41fa94b6",
   "metadata": {},
   "source": [
    "The following cells load sequence pairs from **BLN600**.\n",
    "\n",
    "Unzip the `Sequences.zip` file in the `data` folder of the project."
   ]
  },
  {
   "cell_type": "code",
   "execution_count": 6,
   "id": "98fa13df6c3c73b7",
   "metadata": {
    "ExecuteTime": {
     "end_time": "2024-06-14T13:12:26.641913Z",
     "start_time": "2024-06-14T13:12:23.814017Z"
    },
    "collapsed": false,
    "jupyter": {
     "outputs_hidden": false
    }
   },
   "outputs": [
    {
     "data": {
      "text/html": [
       "<div>\n",
       "<style scoped>\n",
       "    .dataframe tbody tr th:only-of-type {\n",
       "        vertical-align: middle;\n",
       "    }\n",
       "\n",
       "    .dataframe tbody tr th {\n",
       "        vertical-align: top;\n",
       "    }\n",
       "\n",
       "    .dataframe thead th {\n",
       "        text-align: right;\n",
       "    }\n",
       "</style>\n",
       "<table border=\"1\" class=\"dataframe\">\n",
       "  <thead>\n",
       "    <tr style=\"text-align: right;\">\n",
       "      <th></th>\n",
       "      <th>Sample ID</th>\n",
       "      <th>Date</th>\n",
       "      <th>Publication</th>\n",
       "      <th>OCR Text</th>\n",
       "      <th>Ground Truth</th>\n",
       "      <th>CER</th>\n",
       "    </tr>\n",
       "  </thead>\n",
       "  <tbody>\n",
       "    <tr>\n",
       "      <th>0</th>\n",
       "      <td>3200797029</td>\n",
       "      <td>1882-05-27</td>\n",
       "      <td>Illustrated Police News</td>\n",
       "      <td>__RO BBERY AT A BARONET'S.</td>\n",
       "      <td>ROBBERY AT A BARONETS.</td>\n",
       "      <td>0.181818</td>\n",
       "    </tr>\n",
       "    <tr>\n",
       "      <th>1</th>\n",
       "      <td>3200797029</td>\n",
       "      <td>1882-05-27</td>\n",
       "      <td>Illustrated Police News</td>\n",
       "      <td>v EDWARn PRING, twenty-seven, caipentbr, was b...</td>\n",
       "      <td>EDWARD PRING, twenty-seven, carpenter, was bro...</td>\n",
       "      <td>0.095238</td>\n",
       "    </tr>\n",
       "    <tr>\n",
       "      <th>2</th>\n",
       "      <td>3200797029</td>\n",
       "      <td>1882-05-27</td>\n",
       "      <td>Illustrated Police News</td>\n",
       "      <td>Chief Inspector Phillips said there were a num...</td>\n",
       "      <td>Chief Inspector Phillips said there were a num...</td>\n",
       "      <td>0.020979</td>\n",
       "    </tr>\n",
       "    <tr>\n",
       "      <th>3</th>\n",
       "      <td>3200797029</td>\n",
       "      <td>1882-05-27</td>\n",
       "      <td>Illustrated Police News</td>\n",
       "      <td>The prisoner was taken into custody, it appear...</td>\n",
       "      <td>The prisoner was taken into custody, it appear...</td>\n",
       "      <td>0.034884</td>\n",
       "    </tr>\n",
       "    <tr>\n",
       "      <th>4</th>\n",
       "      <td>3200797029</td>\n",
       "      <td>1882-05-27</td>\n",
       "      <td>Illustrated Police News</td>\n",
       "      <td>ThP prisoner called at the house and represent...</td>\n",
       "      <td>The prisoner called at the house and represent...</td>\n",
       "      <td>0.027778</td>\n",
       "    </tr>\n",
       "    <tr>\n",
       "      <th>5</th>\n",
       "      <td>3200797029</td>\n",
       "      <td>1882-05-27</td>\n",
       "      <td>Illustrated Police News</td>\n",
       "      <td>He *was given access to the bedrooms, and afte...</td>\n",
       "      <td>He was given access to the bedrooms, and after...</td>\n",
       "      <td>0.065421</td>\n",
       "    </tr>\n",
       "    <tr>\n",
       "      <th>6</th>\n",
       "      <td>3200797029</td>\n",
       "      <td>1882-05-27</td>\n",
       "      <td>Illustrated Police News</td>\n",
       "      <td>His statement of having been sent to the house...</td>\n",
       "      <td>His statement of having been sent to the house...</td>\n",
       "      <td>0.000000</td>\n",
       "    </tr>\n",
       "    <tr>\n",
       "      <th>7</th>\n",
       "      <td>3200797029</td>\n",
       "      <td>1882-05-27</td>\n",
       "      <td>Illustrated Police News</td>\n",
       "      <td>The prisoner was ultimately arrested on this c...</td>\n",
       "      <td>The prisoner was ultimately arrested on this c...</td>\n",
       "      <td>0.028926</td>\n",
       "    </tr>\n",
       "    <tr>\n",
       "      <th>8</th>\n",
       "      <td>3200797029</td>\n",
       "      <td>1882-05-27</td>\n",
       "      <td>Illustrated Police News</td>\n",
       "      <td>Robert Yfoellam, footman to Sir Robert, depose...</td>\n",
       "      <td>Robert Wollam, footman to Sir Robert, deposed ...</td>\n",
       "      <td>0.058394</td>\n",
       "    </tr>\n",
       "    <tr>\n",
       "      <th>9</th>\n",
       "      <td>3200797029</td>\n",
       "      <td>1882-05-27</td>\n",
       "      <td>Illustrated Police News</td>\n",
       "      <td>Witn6ss said new blinds were not rdqoiifed, ,w...</td>\n",
       "      <td>Witness said new blinds were not required, whe...</td>\n",
       "      <td>0.083333</td>\n",
       "    </tr>\n",
       "  </tbody>\n",
       "</table>\n",
       "</div>"
      ],
      "text/plain": [
       "    Sample ID       Date              Publication  \\\n",
       "0  3200797029 1882-05-27  Illustrated Police News   \n",
       "1  3200797029 1882-05-27  Illustrated Police News   \n",
       "2  3200797029 1882-05-27  Illustrated Police News   \n",
       "3  3200797029 1882-05-27  Illustrated Police News   \n",
       "4  3200797029 1882-05-27  Illustrated Police News   \n",
       "5  3200797029 1882-05-27  Illustrated Police News   \n",
       "6  3200797029 1882-05-27  Illustrated Police News   \n",
       "7  3200797029 1882-05-27  Illustrated Police News   \n",
       "8  3200797029 1882-05-27  Illustrated Police News   \n",
       "9  3200797029 1882-05-27  Illustrated Police News   \n",
       "\n",
       "                                            OCR Text  \\\n",
       "0                         __RO BBERY AT A BARONET'S.   \n",
       "1  v EDWARn PRING, twenty-seven, caipentbr, was b...   \n",
       "2  Chief Inspector Phillips said there were a num...   \n",
       "3  The prisoner was taken into custody, it appear...   \n",
       "4  ThP prisoner called at the house and represent...   \n",
       "5  He *was given access to the bedrooms, and afte...   \n",
       "6  His statement of having been sent to the house...   \n",
       "7  The prisoner was ultimately arrested on this c...   \n",
       "8  Robert Yfoellam, footman to Sir Robert, depose...   \n",
       "9  Witn6ss said new blinds were not rdqoiifed, ,w...   \n",
       "\n",
       "                                        Ground Truth       CER  \n",
       "0                             ROBBERY AT A BARONETS.  0.181818  \n",
       "1  EDWARD PRING, twenty-seven, carpenter, was bro...  0.095238  \n",
       "2  Chief Inspector Phillips said there were a num...  0.020979  \n",
       "3  The prisoner was taken into custody, it appear...  0.034884  \n",
       "4  The prisoner called at the house and represent...  0.027778  \n",
       "5  He was given access to the bedrooms, and after...  0.065421  \n",
       "6  His statement of having been sent to the house...  0.000000  \n",
       "7  The prisoner was ultimately arrested on this c...  0.028926  \n",
       "8  Robert Wollam, footman to Sir Robert, deposed ...  0.058394  \n",
       "9  Witness said new blinds were not required, whe...  0.083333  "
      ]
     },
     "execution_count": 6,
     "metadata": {},
     "output_type": "execute_result"
    }
   ],
   "source": [
    "sample_id, date, publication, ocr, gt = [], [], [], [], []\n",
    "\n",
    "for s in bln600['Sample ID']:\n",
    "    with open(os.path.join('data/Sequences', f'{s}.txt'), 'r') as f:\n",
    "        lines = f.readlines()\n",
    "    \n",
    "    ocr_text, ground_truth = '', ''\n",
    "    for line in lines:\n",
    "        if line.startswith('OCR Text: '):\n",
    "            ocr_text = line.replace('OCR Text: ', '').strip()\n",
    "        elif line.startswith('Ground Truth: '):\n",
    "            ground_truth = line.replace('Ground Truth: ', '').strip()\n",
    "        if ocr_text and ground_truth:\n",
    "            sample_id.append(s)\n",
    "            date.append(bln600.loc[bln600['Sample ID'] == s, 'Date'].iloc[0])\n",
    "            publication.append(bln600.loc[bln600['Sample ID'] == s, 'Publication'].iloc[0])\n",
    "            ocr.append(ocr_text)\n",
    "            gt.append(ground_truth)            \n",
    "            ocr_text, ground_truth = '', ''\n",
    "\n",
    "seq = pd.DataFrame({'Sample ID': sample_id, 'Date': date, 'Publication': publication, 'OCR Text': ocr, 'Ground Truth': gt})\n",
    "seq['OCR Text'] = preprocess(seq['OCR Text'])\n",
    "seq['Ground Truth'] = preprocess(seq['Ground Truth'])\n",
    "seq['CER'] = seq.apply(lambda row: cer(row['OCR Text'], row['Ground Truth']), axis=1)\n",
    "seq.head(10)"
   ]
  },
  {
   "cell_type": "code",
   "execution_count": 7,
   "id": "c1dfcc6f-24eb-493d-b3af-5c6b0609593d",
   "metadata": {
    "ExecuteTime": {
     "end_time": "2024-06-14T13:12:27.674386Z",
     "start_time": "2024-06-14T13:12:27.670038Z"
    }
   },
   "outputs": [
    {
     "data": {
      "text/plain": [
       "count    13192.000000\n",
       "mean         0.077117\n",
       "std          0.121551\n",
       "min          0.000000\n",
       "25%          0.013986\n",
       "50%          0.038095\n",
       "75%          0.089938\n",
       "max          2.000000\n",
       "Name: CER, dtype: float64"
      ]
     },
     "execution_count": 7,
     "metadata": {},
     "output_type": "execute_result"
    }
   ],
   "source": [
    "seq['CER'].describe()"
   ]
  },
  {
   "cell_type": "markdown",
   "id": "2ae071ab65dcfea1",
   "metadata": {
    "collapsed": false,
    "jupyter": {
     "outputs_hidden": false
    }
   },
   "source": [
    "## Split"
   ]
  },
  {
   "cell_type": "markdown",
   "id": "a30d5f09ad4f7fdb",
   "metadata": {},
   "source": [
    "The following cells splits sequence pairs into train/val/test sets for model development."
   ]
  },
  {
   "cell_type": "code",
   "execution_count": 8,
   "id": "ca5ac22d6c7173ce",
   "metadata": {
    "ExecuteTime": {
     "end_time": "2024-06-14T13:12:30.028590Z",
     "start_time": "2024-06-14T13:12:30.024568Z"
    }
   },
   "outputs": [],
   "source": [
    "train_ids, test_ids = train_test_split(seq['Sample ID'].unique(), test_size=0.2, random_state=600)\n",
    "# train_ids, val_ids = train_test_split(train_ids, test_size=0.125, random_state=600)\n",
    "\n",
    "train = seq[seq['Sample ID'].isin(train_ids)]\n",
    "# val = seq[seq['Sample ID'].isin(val_ids)]\n",
    "test = seq[seq['Sample ID'].isin(test_ids)]"
   ]
  },
  {
   "cell_type": "code",
   "execution_count": 9,
   "id": "ea42b5c9-b6a0-44bc-a35a-e3bd8b8bda6c",
   "metadata": {
    "ExecuteTime": {
     "end_time": "2024-06-14T13:12:35.325144Z",
     "start_time": "2024-06-14T13:12:35.284755Z"
    },
    "collapsed": false,
    "jupyter": {
     "outputs_hidden": false
    }
   },
   "outputs": [
    {
     "data": {
      "text/html": [
       "<div>\n",
       "<style scoped>\n",
       "    .dataframe tbody tr th:only-of-type {\n",
       "        vertical-align: middle;\n",
       "    }\n",
       "\n",
       "    .dataframe tbody tr th {\n",
       "        vertical-align: top;\n",
       "    }\n",
       "\n",
       "    .dataframe thead th {\n",
       "        text-align: right;\n",
       "    }\n",
       "</style>\n",
       "<table border=\"1\" class=\"dataframe\">\n",
       "  <thead>\n",
       "    <tr style=\"text-align: right;\">\n",
       "      <th></th>\n",
       "      <th>Sample ID</th>\n",
       "      <th>Date</th>\n",
       "      <th>Publication</th>\n",
       "      <th>OCR Text</th>\n",
       "      <th>Ground Truth</th>\n",
       "      <th>CER</th>\n",
       "    </tr>\n",
       "  </thead>\n",
       "  <tbody>\n",
       "    <tr>\n",
       "      <th>0</th>\n",
       "      <td>3200797029</td>\n",
       "      <td>1882-05-27</td>\n",
       "      <td>Illustrated Police News</td>\n",
       "      <td>__RO BBERY AT A BARONET'S.</td>\n",
       "      <td>ROBBERY AT A BARONETS.</td>\n",
       "      <td>0.181818</td>\n",
       "    </tr>\n",
       "    <tr>\n",
       "      <th>1</th>\n",
       "      <td>3200797029</td>\n",
       "      <td>1882-05-27</td>\n",
       "      <td>Illustrated Police News</td>\n",
       "      <td>v EDWARn PRING, twenty-seven, caipentbr, was b...</td>\n",
       "      <td>EDWARD PRING, twenty-seven, carpenter, was bro...</td>\n",
       "      <td>0.095238</td>\n",
       "    </tr>\n",
       "    <tr>\n",
       "      <th>2</th>\n",
       "      <td>3200797029</td>\n",
       "      <td>1882-05-27</td>\n",
       "      <td>Illustrated Police News</td>\n",
       "      <td>Chief Inspector Phillips said there were a num...</td>\n",
       "      <td>Chief Inspector Phillips said there were a num...</td>\n",
       "      <td>0.020979</td>\n",
       "    </tr>\n",
       "    <tr>\n",
       "      <th>3</th>\n",
       "      <td>3200797029</td>\n",
       "      <td>1882-05-27</td>\n",
       "      <td>Illustrated Police News</td>\n",
       "      <td>The prisoner was taken into custody, it appear...</td>\n",
       "      <td>The prisoner was taken into custody, it appear...</td>\n",
       "      <td>0.034884</td>\n",
       "    </tr>\n",
       "    <tr>\n",
       "      <th>4</th>\n",
       "      <td>3200797029</td>\n",
       "      <td>1882-05-27</td>\n",
       "      <td>Illustrated Police News</td>\n",
       "      <td>ThP prisoner called at the house and represent...</td>\n",
       "      <td>The prisoner called at the house and represent...</td>\n",
       "      <td>0.027778</td>\n",
       "    </tr>\n",
       "    <tr>\n",
       "      <th>5</th>\n",
       "      <td>3200797029</td>\n",
       "      <td>1882-05-27</td>\n",
       "      <td>Illustrated Police News</td>\n",
       "      <td>He *was given access to the bedrooms, and afte...</td>\n",
       "      <td>He was given access to the bedrooms, and after...</td>\n",
       "      <td>0.065421</td>\n",
       "    </tr>\n",
       "    <tr>\n",
       "      <th>6</th>\n",
       "      <td>3200797029</td>\n",
       "      <td>1882-05-27</td>\n",
       "      <td>Illustrated Police News</td>\n",
       "      <td>His statement of having been sent to the house...</td>\n",
       "      <td>His statement of having been sent to the house...</td>\n",
       "      <td>0.000000</td>\n",
       "    </tr>\n",
       "    <tr>\n",
       "      <th>7</th>\n",
       "      <td>3200797029</td>\n",
       "      <td>1882-05-27</td>\n",
       "      <td>Illustrated Police News</td>\n",
       "      <td>The prisoner was ultimately arrested on this c...</td>\n",
       "      <td>The prisoner was ultimately arrested on this c...</td>\n",
       "      <td>0.028926</td>\n",
       "    </tr>\n",
       "    <tr>\n",
       "      <th>8</th>\n",
       "      <td>3200797029</td>\n",
       "      <td>1882-05-27</td>\n",
       "      <td>Illustrated Police News</td>\n",
       "      <td>Robert Yfoellam, footman to Sir Robert, depose...</td>\n",
       "      <td>Robert Wollam, footman to Sir Robert, deposed ...</td>\n",
       "      <td>0.058394</td>\n",
       "    </tr>\n",
       "    <tr>\n",
       "      <th>9</th>\n",
       "      <td>3200797029</td>\n",
       "      <td>1882-05-27</td>\n",
       "      <td>Illustrated Police News</td>\n",
       "      <td>Witn6ss said new blinds were not rdqoiifed, ,w...</td>\n",
       "      <td>Witness said new blinds were not required, whe...</td>\n",
       "      <td>0.083333</td>\n",
       "    </tr>\n",
       "  </tbody>\n",
       "</table>\n",
       "</div>"
      ],
      "text/plain": [
       "    Sample ID       Date              Publication  \\\n",
       "0  3200797029 1882-05-27  Illustrated Police News   \n",
       "1  3200797029 1882-05-27  Illustrated Police News   \n",
       "2  3200797029 1882-05-27  Illustrated Police News   \n",
       "3  3200797029 1882-05-27  Illustrated Police News   \n",
       "4  3200797029 1882-05-27  Illustrated Police News   \n",
       "5  3200797029 1882-05-27  Illustrated Police News   \n",
       "6  3200797029 1882-05-27  Illustrated Police News   \n",
       "7  3200797029 1882-05-27  Illustrated Police News   \n",
       "8  3200797029 1882-05-27  Illustrated Police News   \n",
       "9  3200797029 1882-05-27  Illustrated Police News   \n",
       "\n",
       "                                            OCR Text  \\\n",
       "0                         __RO BBERY AT A BARONET'S.   \n",
       "1  v EDWARn PRING, twenty-seven, caipentbr, was b...   \n",
       "2  Chief Inspector Phillips said there were a num...   \n",
       "3  The prisoner was taken into custody, it appear...   \n",
       "4  ThP prisoner called at the house and represent...   \n",
       "5  He *was given access to the bedrooms, and afte...   \n",
       "6  His statement of having been sent to the house...   \n",
       "7  The prisoner was ultimately arrested on this c...   \n",
       "8  Robert Yfoellam, footman to Sir Robert, depose...   \n",
       "9  Witn6ss said new blinds were not rdqoiifed, ,w...   \n",
       "\n",
       "                                        Ground Truth       CER  \n",
       "0                             ROBBERY AT A BARONETS.  0.181818  \n",
       "1  EDWARD PRING, twenty-seven, carpenter, was bro...  0.095238  \n",
       "2  Chief Inspector Phillips said there were a num...  0.020979  \n",
       "3  The prisoner was taken into custody, it appear...  0.034884  \n",
       "4  The prisoner called at the house and represent...  0.027778  \n",
       "5  He was given access to the bedrooms, and after...  0.065421  \n",
       "6  His statement of having been sent to the house...  0.000000  \n",
       "7  The prisoner was ultimately arrested on this c...  0.028926  \n",
       "8  Robert Wollam, footman to Sir Robert, deposed ...  0.058394  \n",
       "9  Witness said new blinds were not required, whe...  0.083333  "
      ]
     },
     "execution_count": 9,
     "metadata": {},
     "output_type": "execute_result"
    }
   ],
   "source": [
    "train.to_csv('data/train.csv', index=False)\n",
    "train.head(10)"
   ]
  },
  {
   "cell_type": "code",
   "execution_count": 10,
   "id": "c3661d2667c7f3fe",
   "metadata": {
    "ExecuteTime": {
     "end_time": "2024-06-14T13:12:36.329599Z",
     "start_time": "2024-06-14T13:12:36.326067Z"
    },
    "collapsed": false,
    "jupyter": {
     "outputs_hidden": false
    }
   },
   "outputs": [
    {
     "data": {
      "text/plain": [
       "count    10400.000000\n",
       "mean         0.075276\n",
       "std          0.117504\n",
       "min          0.000000\n",
       "25%          0.013973\n",
       "50%          0.037975\n",
       "75%          0.088889\n",
       "max          2.000000\n",
       "Name: CER, dtype: float64"
      ]
     },
     "execution_count": 10,
     "metadata": {},
     "output_type": "execute_result"
    }
   ],
   "source": [
    "train['CER'].describe()"
   ]
  },
  {
   "cell_type": "code",
   "execution_count": 11,
   "id": "01d1e0f9-0891-4840-acdb-5c60aea07906",
   "metadata": {
    "ExecuteTime": {
     "end_time": "2024-06-14T13:12:37.316579Z",
     "start_time": "2024-06-14T13:12:37.302415Z"
    }
   },
   "outputs": [
    {
     "data": {
      "text/html": [
       "<div>\n",
       "<style scoped>\n",
       "    .dataframe tbody tr th:only-of-type {\n",
       "        vertical-align: middle;\n",
       "    }\n",
       "\n",
       "    .dataframe tbody tr th {\n",
       "        vertical-align: top;\n",
       "    }\n",
       "\n",
       "    .dataframe thead th {\n",
       "        text-align: right;\n",
       "    }\n",
       "</style>\n",
       "<table border=\"1\" class=\"dataframe\">\n",
       "  <thead>\n",
       "    <tr style=\"text-align: right;\">\n",
       "      <th></th>\n",
       "      <th>Sample ID</th>\n",
       "      <th>Date</th>\n",
       "      <th>Publication</th>\n",
       "      <th>OCR Text</th>\n",
       "      <th>Ground Truth</th>\n",
       "      <th>CER</th>\n",
       "    </tr>\n",
       "  </thead>\n",
       "  <tbody>\n",
       "    <tr>\n",
       "      <th>18</th>\n",
       "      <td>3200797032</td>\n",
       "      <td>1882-05-27</td>\n",
       "      <td>Illustrated Police News</td>\n",
       "      <td>CHARGE OF SETTING FIRE TO A HOUSE.</td>\n",
       "      <td>CHARGE OF SETTING FIRE TO A HOUSE.</td>\n",
       "      <td>0.000000</td>\n",
       "    </tr>\n",
       "    <tr>\n",
       "      <th>19</th>\n",
       "      <td>3200797032</td>\n",
       "      <td>1882-05-27</td>\n",
       "      <td>Illustrated Police News</td>\n",
       "      <td>AT the Thames police-eourt, Charles Mawzi was ...</td>\n",
       "      <td>AT the Thames police-court, Charles Mawzi was ...</td>\n",
       "      <td>0.019737</td>\n",
       "    </tr>\n",
       "    <tr>\n",
       "      <th>20</th>\n",
       "      <td>3200797032</td>\n",
       "      <td>1882-05-27</td>\n",
       "      <td>Illustrated Police News</td>\n",
       "      <td>At a quarter to four o'clock that 'c�morniink ...</td>\n",
       "      <td>At a quarter to four o'clock that morning Lill...</td>\n",
       "      <td>0.105611</td>\n",
       "    </tr>\n",
       "    <tr>\n",
       "      <th>21</th>\n",
       "      <td>3200797032</td>\n",
       "      <td>1882-05-27</td>\n",
       "      <td>Illustrated Police News</td>\n",
       "      <td>*Lilly caught hold of him, 'ai found that his ...</td>\n",
       "      <td>Lilly caught hold of him, and found that his c...</td>\n",
       "      <td>0.113990</td>\n",
       "    </tr>\n",
       "    <tr>\n",
       "      <th>22</th>\n",
       "      <td>3200797032</td>\n",
       "      <td>1882-05-27</td>\n",
       "      <td>Illustrated Police News</td>\n",
       "      <td>On reaclhing No. 2, whiG1e is an unoc6njid 'ao...</td>\n",
       "      <td>On reaching No. 2, which is an unoccupied hous...</td>\n",
       "      <td>0.107784</td>\n",
       "    </tr>\n",
       "    <tr>\n",
       "      <th>23</th>\n",
       "      <td>3200797032</td>\n",
       "      <td>1882-05-27</td>\n",
       "      <td>Illustrated Police News</td>\n",
       "      <td>He iqrihng his rattle, and William Gadd, sorge...</td>\n",
       "      <td>He sprang his rattle, and William Gadd, sergea...</td>\n",
       "      <td>0.090909</td>\n",
       "    </tr>\n",
       "    <tr>\n",
       "      <th>24</th>\n",
       "      <td>3200797032</td>\n",
       "      <td>1882-05-27</td>\n",
       "      <td>Illustrated Police News</td>\n",
       "      <td>Ford got in the windoxw, and on opening the ba...</td>\n",
       "      <td>Ford got in the window, and on opening the bac...</td>\n",
       "      <td>0.055944</td>\n",
       "    </tr>\n",
       "    <tr>\n",
       "      <th>25</th>\n",
       "      <td>3200797032</td>\n",
       "      <td>1882-05-27</td>\n",
       "      <td>Illustrated Police News</td>\n",
       "      <td>Lilly ran for the turnuock, and in the meantim...</td>\n",
       "      <td>Lilly ran for the turncock, and in the meantim...</td>\n",
       "      <td>0.076087</td>\n",
       "    </tr>\n",
       "    <tr>\n",
       "      <th>26</th>\n",
       "      <td>3200797032</td>\n",
       "      <td>1882-05-27</td>\n",
       "      <td>Illustrated Police News</td>\n",
       "      <td>In ten minutes' time a fire engine arrived, an...</td>\n",
       "      <td>In ten minutes' time a fire engine arrived, an...</td>\n",
       "      <td>0.073770</td>\n",
       "    </tr>\n",
       "    <tr>\n",
       "      <th>27</th>\n",
       "      <td>3200797032</td>\n",
       "      <td>1882-05-27</td>\n",
       "      <td>Illustrated Police News</td>\n",
       "      <td>The prisoner said he 'ent to put out the fire,</td>\n",
       "      <td>The prisoner said he went to put out the fire.</td>\n",
       "      <td>0.043478</td>\n",
       "    </tr>\n",
       "  </tbody>\n",
       "</table>\n",
       "</div>"
      ],
      "text/plain": [
       "     Sample ID       Date              Publication  \\\n",
       "18  3200797032 1882-05-27  Illustrated Police News   \n",
       "19  3200797032 1882-05-27  Illustrated Police News   \n",
       "20  3200797032 1882-05-27  Illustrated Police News   \n",
       "21  3200797032 1882-05-27  Illustrated Police News   \n",
       "22  3200797032 1882-05-27  Illustrated Police News   \n",
       "23  3200797032 1882-05-27  Illustrated Police News   \n",
       "24  3200797032 1882-05-27  Illustrated Police News   \n",
       "25  3200797032 1882-05-27  Illustrated Police News   \n",
       "26  3200797032 1882-05-27  Illustrated Police News   \n",
       "27  3200797032 1882-05-27  Illustrated Police News   \n",
       "\n",
       "                                             OCR Text  \\\n",
       "18                 CHARGE OF SETTING FIRE TO A HOUSE.   \n",
       "19  AT the Thames police-eourt, Charles Mawzi was ...   \n",
       "20  At a quarter to four o'clock that 'c�morniink ...   \n",
       "21  *Lilly caught hold of him, 'ai found that his ...   \n",
       "22  On reaclhing No. 2, whiG1e is an unoc6njid 'ao...   \n",
       "23  He iqrihng his rattle, and William Gadd, sorge...   \n",
       "24  Ford got in the windoxw, and on opening the ba...   \n",
       "25  Lilly ran for the turnuock, and in the meantim...   \n",
       "26  In ten minutes' time a fire engine arrived, an...   \n",
       "27     The prisoner said he 'ent to put out the fire,   \n",
       "\n",
       "                                         Ground Truth       CER  \n",
       "18                 CHARGE OF SETTING FIRE TO A HOUSE.  0.000000  \n",
       "19  AT the Thames police-court, Charles Mawzi was ...  0.019737  \n",
       "20  At a quarter to four o'clock that morning Lill...  0.105611  \n",
       "21  Lilly caught hold of him, and found that his c...  0.113990  \n",
       "22  On reaching No. 2, which is an unoccupied hous...  0.107784  \n",
       "23  He sprang his rattle, and William Gadd, sergea...  0.090909  \n",
       "24  Ford got in the window, and on opening the bac...  0.055944  \n",
       "25  Lilly ran for the turncock, and in the meantim...  0.076087  \n",
       "26  In ten minutes' time a fire engine arrived, an...  0.073770  \n",
       "27     The prisoner said he went to put out the fire.  0.043478  "
      ]
     },
     "execution_count": 11,
     "metadata": {},
     "output_type": "execute_result"
    }
   ],
   "source": [
    "test.to_csv('data/test.csv', index=False)\n",
    "test.head(10)"
   ]
  },
  {
   "cell_type": "code",
   "execution_count": 12,
   "id": "e5258919-53aa-4aba-acd3-6ca618f34261",
   "metadata": {
    "ExecuteTime": {
     "end_time": "2024-06-14T13:12:37.954055Z",
     "start_time": "2024-06-14T13:12:37.950509Z"
    }
   },
   "outputs": [
    {
     "data": {
      "text/plain": [
       "count    2792.000000\n",
       "mean        0.083974\n",
       "std         0.135372\n",
       "min         0.000000\n",
       "25%         0.014122\n",
       "50%         0.038462\n",
       "75%         0.092946\n",
       "max         1.700000\n",
       "Name: CER, dtype: float64"
      ]
     },
     "execution_count": 12,
     "metadata": {},
     "output_type": "execute_result"
    }
   ],
   "source": [
    "test['CER'].describe()"
   ]
  }
 ],
 "metadata": {
  "kernelspec": {
   "display_name": "Python 3 (ipykernel)",
   "language": "python",
   "name": "python3"
  },
  "language_info": {
   "codemirror_mode": {
    "name": "ipython",
    "version": 3
   },
   "file_extension": ".py",
   "mimetype": "text/x-python",
   "name": "python",
   "nbconvert_exporter": "python",
   "pygments_lexer": "ipython3",
   "version": "3.10.12"
  }
 },
 "nbformat": 4,
 "nbformat_minor": 5
}
